{
 "cells": [
  {
   "cell_type": "code",
   "execution_count": 7,
   "id": "d065de75",
   "metadata": {},
   "outputs": [
    {
     "name": "stdout",
     "output_type": "stream",
     "text": [
      "1\n",
      "2\n",
      "3\n",
      "4\n",
      "5\n"
     ]
    }
   ],
   "source": [
    "numeros = [1, 2, 3, 4, 5]\n",
    "\n",
    "for numero in numeros:\n",
    "    print(numero)"
   ]
  },
  {
   "cell_type": "code",
   "execution_count": 10,
   "id": "af9765e1",
   "metadata": {},
   "outputs": [
    {
     "name": "stdout",
     "output_type": "stream",
     "text": [
      "numero a multiplicar5\n",
      "1=5=5\n",
      "2=5=10\n",
      "3=5=15\n",
      "4=5=20\n",
      "5=5=25\n",
      "6=5=30\n",
      "7=5=35\n",
      "8=5=40\n",
      "9=5=45\n",
      "10=5=50\n"
     ]
    }
   ],
   "source": [
    "numero=int(input(\"numero a multiplicar\"))\n",
    "for i in range (1,11):\n",
    "    resultado=numero*i\n",
    "    print(str(i)+\"=\"+str(numero)+\"=\"+str(resultado))"
   ]
  },
  {
   "cell_type": "code",
   "execution_count": 11,
   "id": "05bace60",
   "metadata": {},
   "outputs": [
    {
     "name": "stdout",
     "output_type": "stream",
     "text": [
      "numero a multiplicar4\n",
      "Ingresa un número: 1\n",
      "El número es impar.\n"
     ]
    }
   ],
   "source": [
    "numero=int(input(\"numero a multiplicar\"))\n",
    "# Solicita al usuario que ingrese un número\n",
    "numero = int(input(\"Ingresa un número: \"))\n",
    "\n",
    "# Comprueba si el número es par o impar\n",
    "if numero % 2 == 0:\n",
    "  print(\"El número es par.\")\n",
    "else:\n",
    "  print(\"El número es impar.\")"
   ]
  },
  {
   "cell_type": "code",
   "execution_count": null,
   "id": "b54f7056",
   "metadata": {},
   "outputs": [],
   "source": []
  }
 ],
 "metadata": {
  "kernelspec": {
   "display_name": "Python 3 (ipykernel)",
   "language": "python",
   "name": "python3"
  },
  "language_info": {
   "codemirror_mode": {
    "name": "ipython",
    "version": 3
   },
   "file_extension": ".py",
   "mimetype": "text/x-python",
   "name": "python",
   "nbconvert_exporter": "python",
   "pygments_lexer": "ipython3",
   "version": "3.9.13"
  }
 },
 "nbformat": 4,
 "nbformat_minor": 5
}
