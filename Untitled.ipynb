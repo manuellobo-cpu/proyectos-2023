{
 "cells": [
  {
   "cell_type": "code",
   "execution_count": 2,
   "id": "db53a3a5",
   "metadata": {},
   "outputs": [
    {
     "name": "stdout",
     "output_type": "stream",
     "text": [
      "hola mundo\n"
     ]
    }
   ],
   "source": [
    "str1=\"hola mundo\"\n",
    "print(str1)"
   ]
  },
  {
   "cell_type": "code",
   "execution_count": null,
   "id": "4d751304",
   "metadata": {},
   "outputs": [],
   "source": [
    "#Escribe un programa en Python que solicite al usuario su nombre y luego imprima un mensaje de bienvenida con el \n",
    "#nombre ingresado."
   ]
  },
  {
   "cell_type": "code",
   "execution_count": 5,
   "id": "24ff2177",
   "metadata": {},
   "outputs": [
    {
     "name": "stdout",
     "output_type": "stream",
     "text": [
      "dime tu nombremanolo\n",
      "hola MANOLOnombre\n"
     ]
    }
   ],
   "source": [
    "nombre=input(\"dime tu nombre\")\n",
    "nombre=nombre.upper()\n",
    "print(\"hola \"+nombre+\"nombre\")"
   ]
  },
  {
   "cell_type": "code",
   "execution_count": 9,
   "id": "a5276e0c",
   "metadata": {},
   "outputs": [
    {
     "name": "stdout",
     "output_type": "stream",
     "text": [
      "1 record inserted.\n"
     ]
    }
   ],
   "source": [
    "nombre=\"tomas\"\n",
    "dni=12345\n",
    "apellidos=\"gonzalez\"\n",
    "pais=\"españa\"\n",
    "import mysql.connector\n",
    "\n",
    "mydb = mysql.connector.connect(\n",
    "  host=\"localhost\",\n",
    "  user=\"root\",\n",
    "  password=\"\",\n",
    "  database=\"empresa\"\n",
    ")\n",
    "\n",
    "mycursor = mydb.cursor()\n",
    "\n",
    "sql =\"INSERT INTO `empleado`(`dni`, `nombre`, `apellidos`, `pais`) VALUES (%s,%s,%s,%s)\"\n",
    "val = (dni,nombre,apellidos,pais)\n",
    "mycursor.execute(sql, val)\n",
    "\n",
    "mydb.commit()\n",
    "\n",
    "print(mycursor.rowcount, \"record inserted.\")"
   ]
  },
  {
   "cell_type": "code",
   "execution_count": 7,
   "id": "55101da5",
   "metadata": {},
   "outputs": [
    {
     "name": "stdout",
     "output_type": "stream",
     "text": [
      "Requirement already satisfied: mysql-connector-python in c:\\users\\mloboximenezgmail.c\\anaconda3\\lib\\site-packages (8.0.32)\n",
      "Requirement already satisfied: protobuf<=3.20.3,>=3.11.0 in c:\\users\\mloboximenezgmail.c\\anaconda3\\lib\\site-packages (from mysql-connector-python) (3.20.3)\n",
      "Note: you may need to restart the kernel to use updated packages.\n"
     ]
    }
   ],
   "source": [
    "pip install mysql-connector-python"
   ]
  },
  {
   "cell_type": "code",
   "execution_count": null,
   "id": "34362917",
   "metadata": {},
   "outputs": [],
   "source": []
  }
 ],
 "metadata": {
  "kernelspec": {
   "display_name": "Python 3 (ipykernel)",
   "language": "python",
   "name": "python3"
  },
  "language_info": {
   "codemirror_mode": {
    "name": "ipython",
    "version": 3
   },
   "file_extension": ".py",
   "mimetype": "text/x-python",
   "name": "python",
   "nbconvert_exporter": "python",
   "pygments_lexer": "ipython3",
   "version": "3.9.13"
  }
 },
 "nbformat": 4,
 "nbformat_minor": 5
}
