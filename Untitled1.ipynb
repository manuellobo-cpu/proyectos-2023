{
 "cells": [
  {
   "cell_type": "code",
   "execution_count": 2,
   "id": "93ee4baf",
   "metadata": {},
   "outputs": [
    {
     "name": "stdout",
     "output_type": "stream",
     "text": [
      "¿dime tu DNI?12345\n",
      "¿dime tu nombre?manuel\n",
      "¿dime tus apellidos?lobo\n",
      "¿dime tu pais?españa\n",
      "12345 manuel lobo españa\n"
     ]
    }
   ],
   "source": [
    "dni=input(\"¿dime tu DNI?\")\n",
    "nombre=input(\"¿dime tu nombre?\")\n",
    "apellidos=input(\"¿dime tus apellidos?\")\n",
    "pais=input(\"¿dime tu pais?\")\n",
    "           \n",
    "print(str(dni)+\" \"+str(nombre)+\" \"+str(apellidos)+\" \" +str(pais))"
   ]
  },
  {
   "cell_type": "code",
   "execution_count": 5,
   "id": "a17ceabe",
   "metadata": {},
   "outputs": [
    {
     "name": "stdout",
     "output_type": "stream",
     "text": [
      "dni Disco duro SATA3 1TB nombre 86.99€ apellidos 104.38799999999999 país \n",
      "dni Memoria RAM DDR4 8GB nombre 120€ apellidos 144.0 país \n",
      "dni Disco SSD 1 TB nombre 150.99€ apellidos 181.18800000000002 país \n",
      "dni GeForce GTX 1050Ti nombre 185€ apellidos 222.0 país \n",
      "dni GeForce GTX 1080 Xtreme nombre 755€ apellidos 906.0 país \n",
      "dni Monitor 24 LED Full HD nombre 202€ apellidos 242.39999999999998 país \n",
      "dni Monitor 27 LED Full HD nombre 245.99€ apellidos 295.188 país \n",
      "dni Portátil Yoga 520 nombre 559€ apellidos 670.8 país \n",
      "dni Portátil Ideapd 320 nombre 444€ apellidos 532.8 país \n",
      "dni Impresora HP Deskjet 3720 nombre 59.99€ apellidos 71.988 país \n",
      "dni Impresora HP Laserjet Pro M26nw nombre 180€ apellidos 216.0 país \n"
     ]
    }
   ],
   "source": [
    "#dni=input(\"Dime DNI a buscar\")\n",
    "import mysql.connector\n",
    "\n",
    "mydb = mysql.connector.connect(\n",
    "  host=\"localhost\",\n",
    "  user=\"root\",\n",
    "  password=\"\",\n",
    "  database=\"tienda\"\n",
    ")\n",
    "\n",
    "mycursor = mydb.cursor()\n",
    "\n",
    "mycursor.execute(\"SELECT nombre as nombre_de_producto, concat(precio,\\\"€\\\") as euros, (precio*1.2)as dolares FROM `producto`\")\n",
    "\n",
    "myresult = mycursor.fetchall()\n",
    "\n",
    "for x in myresult:\n",
    "    print(\"dni \"+str(x[0])+\" nombre \"+str(x[1])+\" apellidos \"+str(x[2])+ \" país \")\n",
    "\n",
    "    \n",
    "\n"
   ]
  },
  {
   "cell_type": "code",
   "execution_count": null,
   "id": "bc7d4e93",
   "metadata": {},
   "outputs": [],
   "source": []
  }
 ],
 "metadata": {
  "kernelspec": {
   "display_name": "Python 3 (ipykernel)",
   "language": "python",
   "name": "python3"
  },
  "language_info": {
   "codemirror_mode": {
    "name": "ipython",
    "version": 3
   },
   "file_extension": ".py",
   "mimetype": "text/x-python",
   "name": "python",
   "nbconvert_exporter": "python",
   "pygments_lexer": "ipython3",
   "version": "3.9.13"
  }
 },
 "nbformat": 4,
 "nbformat_minor": 5
}
